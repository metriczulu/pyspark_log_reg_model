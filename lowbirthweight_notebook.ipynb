{
 "cells": [
  {
   "cell_type": "markdown",
   "metadata": {},
   "source": [
    "# Predict Whether a Patient Will be Born with a Low Birth Weight"
   ]
  },
  {
   "cell_type": "markdown",
   "metadata": {},
   "source": [
    "Using logistic regression, we will predict whether a patient is born with a low birth weight.  Key variables available for this analysis are the mothers' age, the mother's race, whether the mother smoked during pregnancy, history of preterm labor and hypertension, presence of uterine irritability, and number of physician visits during 1st trimester."
   ]
  },
  {
   "cell_type": "markdown",
   "metadata": {},
   "source": [
    "## Table of Contents\n",
    "- [Dataset](#low_birth_weight)\n",
    "- [Load Libraries](#load_libraries)\n",
    "- [Access data](#access_data)\n",
    "- [Explore Data](#Explore)\n",
    "- [Parse Data](#Parse)\n",
    "- [Split Data into Training and Test set](#training_test)\n",
    "- [Build a Logistic Regression Model](#build_model)\n",
    "- [Predict for Test data (Logistic Regression)](#test_data)\n",
    "- [Evaluate the Model (Logistic Regression)](#evaluate_model)\n",
    "- [Decision Tree Model](#DT_model)\n",
    "- [Random Forest Model](#RF_model)\n",
    "- [Gradient Boosted Decision Tree](#GB_model)\n",
    "- [Multilayer Perceptron](#MP_model)\n",
    "- [Logistic Regression with Weighted Cost Function](#weight_lr)\n",
    "- [Tuning the Logistic Regression Model](#tuning)"
   ]
  },
  {
   "cell_type": "markdown",
   "metadata": {},
   "source": [
    "<a id=\"\"></a>\n",
    "## Low Birth Weight Dataset\n",
    "**Dataset source:**\n",
    "\n",
    "Hosmer, D.W., Lemeshow, S. and Sturdivant, R.X. (2013) Applied Logistic Regression, 3rd ed., New York: Wiley"
   ]
  },
  {
   "cell_type": "markdown",
   "metadata": {},
   "source": [
    " <table style=\"font-size: 16px; text-align: left;\" width=100%>\n",
    "  <tr>\n",
    "  <td width=5% style=\"text-align: center; font-size: 16px\">\n",
    "   </td>\n",
    "   <td width=11% style=\"text-align: left; font-size: 16px\">\n",
    "   <b>Variable</b>\n",
    "   </td>\n",
    "   <td width=53% style=\"text-align: left; font-size: 16px\">\n",
    "   <b> Description</b>\n",
    "  </tr>\n",
    "  <tr>\n",
    "   <td width=5% style=\"text-align: center; font-size: 16px\">\n",
    "     0 \n",
    "   </td>\n",
    "   <td width=11% style=\"text-align: left; font-size: 16px\">\n",
    "     ID \n",
    "   </td>\n",
    "   <td width=53% style=\"text-align: left; font-size: 16px\">\n",
    "     Identification Code \n",
    "   </td>\n",
    "  \n",
    " </tr>\n",
    " <tr>\n",
    "   <td style=\"text-align: center; font-size: 16px\">\n",
    "    1\n",
    "  </td>\n",
    "  <td style=\"text-align: left; font-size: 16px\">\n",
    "   LOW\n",
    "  </td>\n",
    "  <td style=\"text-align: left; font-size: 16px\">\n",
    "   Low birth weight (0: >= 2500, 1: < 2500 g) -  target variable\n",
    "  </td>\n",
    " </tr>\n",
    " <tr>\n",
    "  <td style=\"text-align: center; font-size: 16px\">\n",
    "   2 \n",
    "  </td>\n",
    "  <td style=\"text-align: left; font-size: 16px\">\n",
    "  AGE\n",
    "  </td>\n",
    "  <td  style=\"text-align: left; font-size: 16px\">\n",
    "  Mother’s age in years\n",
    "  </td>\n",
    " </tr>\n",
    " <tr>\n",
    "  <td style=\"text-align: center; font-size: 16px\">\n",
    "  3 \n",
    "  </td>\n",
    "  <td style=\"text-align: left; font-size: 16px\">\n",
    "  RACE\n",
    "  </td>\n",
    "  <td style=\"text-align: left; font-size: 16px\">\n",
    "  Race (1: White, 2: Black, 3: Other)\n",
    "  </td>\n",
    " </tr>\n",
    " <tr>\n",
    "  <td style=\"text-align: center; font-size: 16px\">\n",
    "  4 \n",
    "  </td>\n",
    "  <td style=\"text-align: left; font-size: 16px\">\n",
    "  SMOKE\n",
    "  </td>\n",
    "  <td style=\"text-align: left; font-size: 16px\">\n",
    "  Smoking status during pregnancy (0: No, 1: Yes)\n",
    "  </td>\n",
    " </tr>\n",
    " <tr>\n",
    "  <td style=\"text-align: center; font-size: 16px\">\n",
    "   5\n",
    "  </td>\n",
    "  <td style=\"text-align: left; font-size: 16px\">\n",
    "  PTL\n",
    "  </td>\n",
    "  <td style=\"text-align: left; font-size: 16px\">\n",
    "  History of premature labor (0: None, 1: One, 2: Two, etc)\n",
    "  </td>\n",
    " </tr>\n",
    "  <tr>\n",
    "  <td style=\"text-align: center; font-size: 16px\">\n",
    "   6\n",
    "  </td>\n",
    "  <td style=\"text-align: left; font-size: 16px\">\n",
    "  HT\n",
    "  </td>\n",
    "  <td style=\"text-align: left; font-size: 16px\">\n",
    "  History of hypertension (0: No, 1: Yes)\n",
    "  </td>\n",
    " </tr>\n",
    "  <tr>\n",
    "  <td style=\"text-align: center; font-size: 16px\">\n",
    "   7\n",
    "  </td>\n",
    "  <td style=\"text-align: left; font-size: 16px\">\n",
    "  UI\n",
    "  </td>\n",
    "  <td style=\"text-align: left; font-size: 16px\">\n",
    "  Presence of Uterine irritability (0: No, 1: Yes)\n",
    "  </td>\n",
    " </tr>\n",
    "  <tr>\n",
    "  <td style=\"text-align: center; font-size: 16px\">\n",
    "   8\n",
    "  </td>\n",
    "  <td style=\"text-align: left; font-size: 16px\">\n",
    "  FTV\n",
    "  </td>\n",
    "  <td style=\"text-align: left; font-size: 16px\">\n",
    "  Number of physician visits during the first trimester (0: None, 1: One, 2: Two, etc)\n",
    "  </td>\n",
    " </tr>\n",
    "</table>"
   ]
  },
  {
   "cell_type": "markdown",
   "metadata": {},
   "source": [
    "<a id=\"load_libraries\"></a>\n",
    "## Load Libraries\n",
    "\n",
    "The Spark and Python libraries are preinstalled in the notebook environment and only need to be loaded:"
   ]
  },
  {
   "cell_type": "code",
   "execution_count": 1,
   "metadata": {},
   "outputs": [
    {
     "name": "stdout",
     "output_type": "stream",
     "text": [
      "Waiting for a Spark session to start...\n",
      "Spark Initialization Done! ApplicationId = app-20190630231217-0000\n",
      "KERNEL_ID = 438826ae-ebdf-449b-987a-7e78dea6d0ff\n"
     ]
    }
   ],
   "source": [
    "# PySpark Machine Learning Library\n",
    "from pyspark.ml import Pipeline\n",
    "from pyspark.ml.classification import LogisticRegression\n",
    "from pyspark.ml.feature import HashingTF, Tokenizer, VectorAssembler, OneHotEncoderEstimator, MinMaxScaler\n",
    "from pyspark.sql import Row, SQLContext\n",
    "from pyspark.sql.functions import col, sum, when\n",
    "\n",
    "import os\n",
    "import sys\n",
    "from pyspark import SparkConf\n",
    "from pyspark import SparkContext\n",
    "from pyspark.sql import SQLContext\n",
    "from pyspark.sql.types import *\n",
    "from pyspark.sql.session import SparkSession\n",
    "\n",
    "from pyspark.mllib.classification import LogisticRegressionWithSGD\n",
    "from pyspark.mllib.regression import LabeledPoint\n",
    "from numpy import array\n",
    "\n",
    "from pyspark.ml.evaluation import MulticlassClassificationEvaluator\n",
    "# Library for confusion matrix, precision, test error\n",
    "from pyspark.mllib.evaluation import MulticlassMetrics\n",
    "# Library For Area under ROC curve and Area under precision-recall curve\n",
    "from pyspark.mllib.evaluation import BinaryClassificationMetrics\n",
    "\n",
    "# Assign resources to the application\n",
    "sqlContext = SQLContext(sc)\n",
    "\n",
    "# packages for data analysis\n",
    "import numpy as np\n",
    "import pandas as pd"
   ]
  },
  {
   "cell_type": "markdown",
   "metadata": {},
   "source": [
    "<a id=\"access_data\"></a>\n",
    "## Access Data\n",
    "\n",
    "Below we read our data file from Object Storage, with IBM Cloud Object Storage this is as easy as clicking the **Insert to code** link next to our .csv with the below cell selected"
   ]
  },
  {
   "cell_type": "code",
   "execution_count": 2,
   "metadata": {},
   "outputs": [
    {
     "data": {
      "text/plain": [
       "[Row(ID='85', LOW='0', AGE='19', RACE='2', SMOKE='0', PTL='0', HT='0', UI='1', FTV='0'),\n",
       " Row(ID='86', LOW='0', AGE='33', RACE='3', SMOKE='0', PTL='0', HT='0', UI='0', FTV='3'),\n",
       " Row(ID='87', LOW='0', AGE='20', RACE='1', SMOKE='1', PTL='0', HT='0', UI='0', FTV='1'),\n",
       " Row(ID='88', LOW='0', AGE='21', RACE='1', SMOKE='1', PTL='0', HT='0', UI='1', FTV='2'),\n",
       " Row(ID='89', LOW='0', AGE='18', RACE='1', SMOKE='1', PTL='0', HT='0', UI='1', FTV='0')]"
      ]
     },
     "execution_count": 2,
     "metadata": {},
     "output_type": "execute_result"
    }
   ],
   "source": [
    "# Anything with a 'XXXX' was removed from the notebook after running to keep credentials off GitHub\n",
    "\n",
    "import ibmos2spark\n",
    "# @hidden_cell\n",
    "credentials = {\n",
    "    'endpoint': 'XXXX',\n",
    "    'service_id': 'XXXX',\n",
    "    'iam_service_endpoint': 'XXXX',\n",
    "    'api_key': 'XXXX'\n",
    "}\n",
    "\n",
    "configuration_name = 'XXXX'\n",
    "cos = ibmos2spark.CloudObjectStorage(sc, credentials, configuration_name, 'bluemix_cos')\n",
    "\n",
    "from pyspark.sql import SparkSession\n",
    "spark = SparkSession.builder.getOrCreate()\n",
    "df_data_1 = spark.read\\\n",
    "  .format('org.apache.spark.sql.execution.datasources.csv.CSVFileFormat')\\\n",
    "  .option('header', 'true')\\\n",
    "  .load(cos.url('lowbwt.csv', 'XXXX'))\n",
    "df_data_1.take(5)\n"
   ]
  },
  {
   "cell_type": "markdown",
   "metadata": {},
   "source": [
    "<a id=\"Explore\"></a>\n",
    "## Explore Data"
   ]
  },
  {
   "cell_type": "code",
   "execution_count": 3,
   "metadata": {},
   "outputs": [
    {
     "name": "stdout",
     "output_type": "stream",
     "text": [
      "root\n",
      " |-- ID: short (nullable = true)\n",
      " |-- LOW: byte (nullable = true)\n",
      " |-- AGE: byte (nullable = true)\n",
      " |-- RACE: byte (nullable = true)\n",
      " |-- SMOKE: byte (nullable = true)\n",
      " |-- PTL: byte (nullable = true)\n",
      " |-- HT: byte (nullable = true)\n",
      " |-- UI: byte (nullable = true)\n",
      " |-- FTV: byte (nullable = true)\n",
      "\n"
     ]
    }
   ],
   "source": [
    "# Infer the data type of each column and convert the data to the inferred data type\n",
    "\n",
    "from ingest import *\n",
    "eu = ExtensionUtils(sqlContext)\n",
    "df_data_1=eu.convertTypes(df_data_1)\n",
    "df_data_1.printSchema()"
   ]
  },
  {
   "cell_type": "code",
   "execution_count": 4,
   "metadata": {},
   "outputs": [
    {
     "name": "stdout",
     "output_type": "stream",
     "text": [
      "Number of missing values in this dataset: \n",
      "+---+---+---+----+-----+---+---+---+---+\n",
      "| ID|LOW|AGE|RACE|SMOKE|PTL| HT| UI|FTV|\n",
      "+---+---+---+----+-----+---+---+---+---+\n",
      "|  0|  0|  0|   0|    0|  0|  0|  0|  0|\n",
      "+---+---+---+----+-----+---+---+---+---+\n",
      "\n"
     ]
    }
   ],
   "source": [
    "#Check for missing values\n",
    "print('Number of missing values in this dataset: ')\n",
    "df_data_1.select(*(sum(col(c).isNull().cast(\"int\")).alias(c) for c in df_data_1.columns)).show()"
   ]
  },
  {
   "cell_type": "code",
   "execution_count": 5,
   "metadata": {},
   "outputs": [
    {
     "name": "stdout",
     "output_type": "stream",
     "text": [
      "Number of Patients:  189\n",
      "Number of patients by birth weight category: \n",
      "+---+-----+\n",
      "|LOW|count|\n",
      "+---+-----+\n",
      "|  1|   59|\n",
      "|  0|  130|\n",
      "+---+-----+\n",
      "\n"
     ]
    }
   ],
   "source": [
    "# Number of patients and number of patients by birth weight category\n",
    "\n",
    "print('Number of Patients: ', df_data_1.count())\n",
    "\n",
    "print('Number of patients by birth weight category: ')\n",
    "df_data_1.groupby('LOW').count().show()"
   ]
  },
  {
   "cell_type": "code",
   "execution_count": 6,
   "metadata": {},
   "outputs": [
    {
     "name": "stdout",
     "output_type": "stream",
     "text": [
      "Normal birth weight makes up 2.2033898305084745x more of the data than low birth weight.\n"
     ]
    }
   ],
   "source": [
    "# From above, we can see this data is imbalanced.  For future weighting purposes, we store the imbalance percentage\n",
    "# to a variable we can use later.\n",
    "\n",
    "imbalanced = 130.0/59\n",
    "\n",
    "print('Normal birth weight makes up {}x more of the data than low birth weight.'.format(imbalanced))"
   ]
  },
  {
   "cell_type": "code",
   "execution_count": 7,
   "metadata": {},
   "outputs": [
    {
     "name": "stdout",
     "output_type": "stream",
     "text": [
      "Summary statistics for all three continuous numeric variables: \n"
     ]
    },
    {
     "data": {
      "text/html": [
       "<div>\n",
       "<style scoped>\n",
       "    .dataframe tbody tr th:only-of-type {\n",
       "        vertical-align: middle;\n",
       "    }\n",
       "\n",
       "    .dataframe tbody tr th {\n",
       "        vertical-align: top;\n",
       "    }\n",
       "\n",
       "    .dataframe thead th {\n",
       "        text-align: right;\n",
       "    }\n",
       "</style>\n",
       "<table border=\"1\" class=\"dataframe\">\n",
       "  <thead>\n",
       "    <tr style=\"text-align: right;\">\n",
       "      <th></th>\n",
       "      <th>0</th>\n",
       "      <th>1</th>\n",
       "      <th>2</th>\n",
       "      <th>3</th>\n",
       "      <th>4</th>\n",
       "    </tr>\n",
       "  </thead>\n",
       "  <tbody>\n",
       "    <tr>\n",
       "      <th>summary</th>\n",
       "      <td>count</td>\n",
       "      <td>mean</td>\n",
       "      <td>stddev</td>\n",
       "      <td>min</td>\n",
       "      <td>max</td>\n",
       "    </tr>\n",
       "    <tr>\n",
       "      <th>AGE</th>\n",
       "      <td>189</td>\n",
       "      <td>23.238095238095237</td>\n",
       "      <td>5.2986779334042655</td>\n",
       "      <td>14</td>\n",
       "      <td>45</td>\n",
       "    </tr>\n",
       "    <tr>\n",
       "      <th>PTL</th>\n",
       "      <td>189</td>\n",
       "      <td>0.19576719576719576</td>\n",
       "      <td>0.4933419132673032</td>\n",
       "      <td>0</td>\n",
       "      <td>3</td>\n",
       "    </tr>\n",
       "    <tr>\n",
       "      <th>FTV</th>\n",
       "      <td>189</td>\n",
       "      <td>0.7936507936507936</td>\n",
       "      <td>1.0592861429875455</td>\n",
       "      <td>0</td>\n",
       "      <td>6</td>\n",
       "    </tr>\n",
       "  </tbody>\n",
       "</table>\n",
       "</div>"
      ],
      "text/plain": [
       "             0                    1                   2    3    4\n",
       "summary  count                 mean              stddev  min  max\n",
       "AGE        189   23.238095238095237  5.2986779334042655   14   45\n",
       "PTL        189  0.19576719576719576  0.4933419132673032    0    3\n",
       "FTV        189   0.7936507936507936  1.0592861429875455    0    6"
      ]
     },
     "execution_count": 7,
     "metadata": {},
     "output_type": "execute_result"
    }
   ],
   "source": [
    "# show the stats summary for our two continuous numeric variables\n",
    "\n",
    "print('Summary statistics for all three continuous numeric variables: ')\n",
    "df_data_1.select(['AGE', 'PTL', 'FTV']).describe().toPandas().transpose()"
   ]
  },
  {
   "cell_type": "code",
   "execution_count": 8,
   "metadata": {},
   "outputs": [
    {
     "name": "stdout",
     "output_type": "stream",
     "text": [
      "\n",
      "Crosstabulation between birth weight category and race: \n",
      "  RACE_LOW   0   1\n",
      "0        2  15  11\n",
      "1        1  73  23\n",
      "2        3  42  25\n",
      "\n",
      "Crosstabulation between birth weight category and history of smoking while pregnant: \n",
      "  SMOKE_LOW   0   1\n",
      "0         1  44  30\n",
      "1         0  86  29\n",
      "\n",
      "Crosstabulation between birth weight category and history of hypertension: \n",
      "  HT_LOW    0   1\n",
      "0      1    5   7\n",
      "1      0  125  52\n",
      "\n",
      "Crosstabulation between birth weight category and uterine irritability: \n",
      "  UI_LOW    0   1\n",
      "0      1   14  14\n",
      "1      0  116  45\n"
     ]
    }
   ],
   "source": [
    "import matplotlib.pyplot as plt\n",
    "%matplotlib inline\n",
    "\n",
    "df_race=df_data_1.crosstab('RACE', 'LOW').toPandas()\n",
    "print('\\nCrosstabulation between birth weight category and race: ')\n",
    "print(df_race)\n",
    "\n",
    "df_smoke=df_data_1.crosstab('SMOKE', 'LOW').toPandas()\n",
    "print('\\nCrosstabulation between birth weight category and history of smoking while pregnant: ')\n",
    "print(df_smoke)\n",
    "\n",
    "df_ht=df_data_1.crosstab('HT', 'LOW').toPandas()\n",
    "print('\\nCrosstabulation between birth weight category and history of hypertension: ')\n",
    "print(df_ht)\n",
    "\n",
    "df_ui=df_data_1.crosstab('UI', 'LOW').toPandas()\n",
    "print('\\nCrosstabulation between birth weight category and uterine irritability: ')\n",
    "print(df_ui)"
   ]
  },
  {
   "cell_type": "code",
   "execution_count": 9,
   "metadata": {},
   "outputs": [
    {
     "data": {
      "image/png": "[encoded data removed]",
      "text/plain": [
       "<Figure size 432x288 with 1 Axes>"
      ]
     },
     "metadata": {
      "needs_background": "light"
     },
     "output_type": "display_data"
    },
    {
     "data": {
      "image/png": "[encoded data removed]",
      "text/plain": [
       "<Figure size 432x288 with 1 Axes>"
      ]
     },
     "metadata": {
      "needs_background": "light"
     },
     "output_type": "display_data"
    },
    {
     "data": {
      "image/png": "[encoded data removed]",
      "text/plain": [
       "<Figure size 432x288 with 1 Axes>"
      ]
     },
     "metadata": {
      "needs_background": "light"
     },
     "output_type": "display_data"
    },
    {
     "data": {
      "image/png": "[encoded data removed]",
      "text/plain": [
       "<Figure size 432x288 with 1 Axes>"
      ]
     },
     "metadata": {
      "needs_background": "light"
     },
     "output_type": "display_data"
    }
   ],
   "source": [
    "# Bar charts for all crosstabulation tables between birth weight category and our categorical variables\n",
    "\n",
    "df_race.plot.bar(x=\"RACE_LOW\", legend=True, title=\"Birth weight category by mother's race\")\n",
    "df_smoke.plot.bar(x=\"SMOKE_LOW\", legend=True, title=\"Birth weight category by mother's smoking habit while pregnant\")\n",
    "df_ht.plot.bar(x=\"HT_LOW\", legend=True, title=\"Birth weight category by mother's history of hypertension\")\n",
    "df_ui.plot.bar(x=\"UI_LOW\", legend=True, title=\"Birth weight category by mother's history of uterine irritability\")\n",
    "plt.show()"
   ]
  },
  {
   "cell_type": "code",
   "execution_count": 10,
   "metadata": {},
   "outputs": [
    {
     "name": "stdout",
     "output_type": "stream",
     "text": [
      "Average age by birth weight category:\n",
      "   LOW   avg(AGE)\n",
      "0    0  23.661538\n",
      "1    1  22.305085\n"
     ]
    }
   ],
   "source": [
    "# Average age by birth weight\n",
    "# Convert Age and number of physician appointments in first trimester to numeric\n",
    "\n",
    "pdf=df_data_1.toPandas()\n",
    "pdf[\"AGE\"]=pd.to_numeric(pdf.AGE)\n",
    "pdf[\"FTV\"]=pd.to_numeric(pdf.FTV)\n",
    "pdf[\"PTL\"]=pd.to_numeric(pdf.PTL)\n",
    "\n",
    "df=sqlContext.createDataFrame(pdf)\n",
    "\n",
    "print('Average age by birth weight category:')\n",
    "PAGE=df.groupby(['LOW'])\\\n",
    ".agg({\"AGE\": \"AVG\"}).toPandas()\n",
    "print(PAGE)"
   ]
  },
  {
   "cell_type": "code",
   "execution_count": 11,
   "metadata": {},
   "outputs": [
    {
     "data": {
      "text/plain": [
       "<matplotlib.axes._subplots.AxesSubplot at 0x7fa61ce916d8>"
      ]
     },
     "execution_count": 11,
     "metadata": {},
     "output_type": "execute_result"
    },
    {
     "data": {
      "image/png": "[encoded data removed]",
      "text/plain": [
       "<Figure size 432x288 with 1 Axes>"
      ]
     },
     "metadata": {
      "needs_background": "light"
     },
     "output_type": "display_data"
    }
   ],
   "source": [
    "#Age distribution for all mothers\n",
    "df.toPandas()[\"AGE\"].plot.hist(x=\"Age\", bins=[0,5,10,15,20,25,30,35,40,45], title=\"Age distribution\")"
   ]
  },
  {
   "cell_type": "code",
   "execution_count": 12,
   "metadata": {},
   "outputs": [
    {
     "data": {
      "image/png": "[encoded data removed]",
      "text/plain": [
       "<Figure size 432x288 with 1 Axes>"
      ]
     },
     "metadata": {
      "needs_background": "light"
     },
     "output_type": "display_data"
    }
   ],
   "source": [
    "# Age distribution for mothers of children with by birth weight category\n",
    "# With sweet Maryland colors\n",
    "\n",
    "df_age_low=df.select('AGE', 'LOW').filter(df['LOW']=='1')\n",
    "pdf_age_low=df_age_low.select('AGE').toPandas()\n",
    "df_age_high=df.select('AGE', 'LOW').filter(df['LOW']=='0')\n",
    "pdf_age_high=df_age_high.select('AGE').toPandas()\n",
    "plt.hist(pdf_age_low.AGE, color='red', alpha=0.5, bins=[0,5,10,15,20,25,30,35,40,45], label='Low birth weight')\n",
    "plt.hist(pdf_age_high.AGE, color='yellow', alpha=0.5, bins=[0,5,10,15,20,25,30,35,40,45], label='Normal birth weight')\n",
    "plt.title(\"Mother's age by birth weight category\")\n",
    "plt.legend(loc='upper right')\n",
    "plt.show()"
   ]
  },
  {
   "cell_type": "code",
   "execution_count": 13,
   "metadata": {},
   "outputs": [
    {
     "name": "stdout",
     "output_type": "stream",
     "text": [
      "Average number of first trimester appointments by birth weight category: \n",
      "   LOW  avg(FTV)\n",
      "0    0  0.838462\n",
      "1    1  0.694915\n"
     ]
    }
   ],
   "source": [
    "#Average number of first trimester physician appointments by birth weight category\n",
    "\n",
    "print('Average number of first trimester appointments by birth weight category: ')\n",
    "PFTV=df.groupby(['LOW'])\\\n",
    ".agg({\"FTV\": \"AVG\"}).toPandas()\n",
    "print(PFTV)"
   ]
  },
  {
   "cell_type": "code",
   "execution_count": 14,
   "metadata": {},
   "outputs": [
    {
     "data": {
      "text/plain": [
       "<matplotlib.axes._subplots.AxesSubplot at 0x7fa61ea016d8>"
      ]
     },
     "execution_count": 14,
     "metadata": {},
     "output_type": "execute_result"
    },
    {
     "data": {
      "image/png": "[encoded data removed]",
      "text/plain": [
       "<Figure size 432x288 with 1 Axes>"
      ]
     },
     "metadata": {
      "needs_background": "light"
     },
     "output_type": "display_data"
    }
   ],
   "source": [
    "#First trimester appointments distribution for all mothers\n",
    "\n",
    "df.toPandas()[\"FTV\"].plot.hist(x=\"First trimester appointments\", bins=[0,1,2,3,4,5,6], title=\"First trimester appointments distribution\")"
   ]
  },
  {
   "cell_type": "code",
   "execution_count": 15,
   "metadata": {},
   "outputs": [
    {
     "data": {
      "image/png": "[encoded data removed]",
      "text/plain": [
       "<Figure size 432x288 with 1 Axes>"
      ]
     },
     "metadata": {
      "needs_background": "light"
     },
     "output_type": "display_data"
    }
   ],
   "source": [
    "# Age distribution for mothers of children with low birth weight\n",
    "# With sweet Virginia Tech colors / Go Hokies! (and UMUC! I love you guys too but you're covered by Maryland colors)\n",
    "\n",
    "df_ftv_low=df.select('FTV', 'LOW').filter(df['LOW']=='1')\n",
    "pdf_ftv_low=df_ftv_low.select('FTV').toPandas()\n",
    "df_ftv_high=df.select('FTV', 'LOW').filter(df['LOW']=='0')\n",
    "pdf_ftv_high=df_ftv_high.select('FTV').toPandas()\n",
    "plt.hist(pdf_ftv_low.FTV, color='maroon', alpha=0.5, bins=[0,1,2,3,4,5,6], label='Low birth weight')\n",
    "plt.hist(pdf_ftv_high.FTV, color='orange', alpha=0.5, bins=[0,1,2,3,4,5,6], label='Normal birth weight')\n",
    "plt.title('First trimester physician visits by birth weight category')\n",
    "plt.legend(loc='upper right')\n",
    "plt.show()"
   ]
  },
  {
   "cell_type": "code",
   "execution_count": 16,
   "metadata": {},
   "outputs": [
    {
     "name": "stdout",
     "output_type": "stream",
     "text": [
      "Average age by birth weight category:\n",
      "   LOW  avg(PTL)\n",
      "0    0  0.130769\n",
      "1    1  0.338983\n"
     ]
    }
   ],
   "source": [
    "print('Average age by birth weight category:')\n",
    "PAGE=df.groupby(['LOW'])\\\n",
    ".agg({\"PTL\": \"AVG\"}).toPandas()\n",
    "print(PAGE)"
   ]
  },
  {
   "cell_type": "code",
   "execution_count": 17,
   "metadata": {},
   "outputs": [
    {
     "data": {
      "text/plain": [
       "<matplotlib.axes._subplots.AxesSubplot at 0x7fa61ccf7c18>"
      ]
     },
     "execution_count": 17,
     "metadata": {},
     "output_type": "execute_result"
    },
    {
     "data": {
      "image/png": "[encoded data removed]",
      "text/plain": [
       "<Figure size 432x288 with 1 Axes>"
      ]
     },
     "metadata": {
      "needs_background": "light"
     },
     "output_type": "display_data"
    }
   ],
   "source": [
    "# Preterm labor distribution for all mothers\n",
    "\n",
    "df.toPandas()[\"PTL\"].plot.hist(x=\"Number of preterm labors\", bins=[0,1,2,3,4], title=\"Preterm labor distribution\")"
   ]
  },
  {
   "cell_type": "code",
   "execution_count": 18,
   "metadata": {},
   "outputs": [
    {
     "data": {
      "image/png": "[encoded data removed]",
      "text/plain": [
       "<Figure size 432x288 with 1 Axes>"
      ]
     },
     "metadata": {
      "needs_background": "light"
     },
     "output_type": "display_data"
    }
   ],
   "source": [
    "# Age distribution for mothers of children with by birth weight category\n",
    "# With glorious summer colors\n",
    "\n",
    "df_ptl_low=df.select('PTL', 'LOW').filter(df['LOW']=='1')\n",
    "pdf_ptl_low=df_ptl_low.select('PTL').toPandas()\n",
    "df_ptl_high=df.select('PTL', 'LOW').filter(df['LOW']=='0')\n",
    "pdf_ptl_high=df_ptl_high.select('PTL').toPandas()\n",
    "plt.hist(pdf_ptl_low.PTL, color='green', alpha=0.5, bins=[0,1,2,3,4], label='Low birth weight')\n",
    "plt.hist(pdf_ptl_high.PTL, color='yellow', alpha=0.5, bins=[0,1,2,3,4], label='Normal birth weight')\n",
    "plt.title('History of preterm labor by birth weight category')\n",
    "plt.legend(loc='upper right')\n",
    "plt.show()"
   ]
  },
  {
   "cell_type": "markdown",
   "metadata": {},
   "source": [
    "<a id=\"Parse\"></a>\n",
    "## Parse Data\n",
    "Now let's load the data into a `Spark RDD` and output the number of rows and first 5 rows."
   ]
  },
  {
   "cell_type": "code",
   "execution_count": 19,
   "metadata": {},
   "outputs": [
    {
     "name": "stdout",
     "output_type": "stream",
     "text": [
      "Total records in the data set: 190\n",
      "The first 5 rows\n"
     ]
    },
    {
     "data": {
      "text/plain": [
       "['ID,LOW,AGE,RACE,SMOKE,PTL,HT,UI,FTV',\n",
       " '85,0,19,2,0,0,0,1,0',\n",
       " '86,0,33,3,0,0,0,0,3',\n",
       " '87,0,20,1,1,0,0,0,1',\n",
       " '88,0,21,1,1,0,0,1,2']"
      ]
     },
     "execution_count": 19,
     "metadata": {},
     "output_type": "execute_result"
    }
   ],
   "source": [
    "data = sc.textFile(cos.url('lowbwt.csv', 'apachesparktutorial-donotdelete-pr-rfljffxdnna28u'))\n",
    "print (\"Total records in the data set:\", data.count())\n",
    "print (\"The first 5 rows\")\n",
    "data.take(5)"
   ]
  },
  {
   "cell_type": "code",
   "execution_count": 20,
   "metadata": {},
   "outputs": [],
   "source": [
    "# Label is the target variable LOW\n",
    "# All binary and continuous numeric variables will be converted to float and used \"as-is,\" since there is really no point to\n",
    "# one-hot encode a binary variable.  Given that, only one variable remains which cannot be considered binary or continuous\n",
    "# numeric--Race.  Since Race is the only categorical variable, we skip the whole one-hot encoding and then assembling\n",
    "# part of the pipeline by just one-hot encoding it manually in the parser.  PersonID is just there to be there\n",
    "# because we aren't really going to do anything with it at all except include it as an identifier when looking at predictions.\n",
    "# FTV and PTL are transformed via square root to semi-normalize them, as they are clearly skewed to the left in the plot above.\n",
    "\n",
    "LabeledDocument = Row(\"PersonID\", \"Age\", \"Race_1\", \"Race_2\", \"Smoke\", \"PTL\", \"sqrt_PTL\", \"HT\", \"UI\", \"FTV\", \"sqrt_FTV\", \"label\")\n",
    "\n",
    "# Define a function that parses each row in a CSV file and returns an object of type LabeledDocument\n",
    "\n",
    "def parseDocument(line):\n",
    "    values = [str(x) for x in line.split(',')]\n",
    "    race = int(values[3])\n",
    "    race_1=0.0\n",
    "    race_2=0.0\n",
    "    if race==1:\n",
    "        race_1=1.0\n",
    "    elif race==2:\n",
    "        race_2=1.0\n",
    "    pid = str(values[0])\n",
    "    age = float(values[2])\n",
    "    smoke = float(values[4])\n",
    "    ptl = float(values[5])\n",
    "    sqrt_ptl = float(np.sqrt(ptl))\n",
    "    ht = float(values[6])\n",
    "    ui = float(values[7])\n",
    "    ftv = float(values[8])\n",
    "    sqrt_ftv = float(np.sqrt(ftv))\n",
    "    labels = float(values[1])\n",
    "    \n",
    "    return LabeledDocument(pid, age, race_1, race_2, smoke, ptl, sqrt_ptl, ht, ui, ftv, sqrt_ftv, labels)"
   ]
  },
  {
   "cell_type": "markdown",
   "metadata": {},
   "source": [
    "Create DataFrame from RDD"
   ]
  },
  {
   "cell_type": "code",
   "execution_count": 21,
   "metadata": {},
   "outputs": [
    {
     "name": "stdout",
     "output_type": "stream",
     "text": [
      "Number of records: 189\n",
      "First 5 records: \n"
     ]
    },
    {
     "data": {
      "text/plain": [
       "[Row(PersonID='85', Age=19.0, Race_1=0.0, Race_2=1.0, Smoke=0.0, PTL=0.0, sqrt_PTL=0.0, HT=0.0, UI=1.0, FTV=0.0, sqrt_FTV=0.0, label=0.0),\n",
       " Row(PersonID='86', Age=33.0, Race_1=0.0, Race_2=0.0, Smoke=0.0, PTL=0.0, sqrt_PTL=0.0, HT=0.0, UI=0.0, FTV=3.0, sqrt_FTV=1.7320508075688772, label=0.0),\n",
       " Row(PersonID='87', Age=20.0, Race_1=1.0, Race_2=0.0, Smoke=1.0, PTL=0.0, sqrt_PTL=0.0, HT=0.0, UI=0.0, FTV=1.0, sqrt_FTV=1.0, label=0.0),\n",
       " Row(PersonID='88', Age=21.0, Race_1=1.0, Race_2=0.0, Smoke=1.0, PTL=0.0, sqrt_PTL=0.0, HT=0.0, UI=1.0, FTV=2.0, sqrt_FTV=1.4142135623730951, label=0.0),\n",
       " Row(PersonID='89', Age=18.0, Race_1=1.0, Race_2=0.0, Smoke=1.0, PTL=0.0, sqrt_PTL=0.0, HT=0.0, UI=1.0, FTV=0.0, sqrt_FTV=0.0, label=0.0)]"
      ]
     },
     "execution_count": 21,
     "metadata": {},
     "output_type": "execute_result"
    }
   ],
   "source": [
    "#Parse and Load the data into a dataframe. The code calls the parsing function defined above\n",
    "\n",
    "documents=data.filter(lambda s: \"LOW\" not in s).map(parseDocument)\n",
    "BirthWeightData = documents.toDF()\n",
    "print (\"Number of records: \" + str(BirthWeightData.count()))\n",
    "print ( \"First 5 records: \")\n",
    "BirthWeightData.take(5)"
   ]
  },
  {
   "cell_type": "markdown",
   "metadata": {},
   "source": [
    "<a id=\"training_test\"></a>\n",
    "## Split Data into Training and Test set\n",
    "\n",
    "We divide the data into training and test set.  The training set is used to build the model to be used on future data, and the test set is used to evaluate the model."
   ]
  },
  {
   "cell_type": "code",
   "execution_count": 22,
   "metadata": {},
   "outputs": [
    {
     "name": "stdout",
     "output_type": "stream",
     "text": [
      "Number of records in the training set: 147\n",
      "Number of records in the test set: 42\n",
      "\n",
      "Proportion of training set to total dataset: 0.7777777777777778\n",
      "\n",
      "First 5 records in the training set: \n",
      "+--------+----+------+------+-----+---+--------+---+---+---+------------------+-----+\n",
      "|PersonID| Age|Race_1|Race_2|Smoke|PTL|sqrt_PTL| HT| UI|FTV|          sqrt_FTV|label|\n",
      "+--------+----+------+------+-----+---+--------+---+---+---+------------------+-----+\n",
      "|      85|19.0|   0.0|   1.0|  0.0|0.0|     0.0|0.0|1.0|0.0|               0.0|  0.0|\n",
      "|      86|33.0|   0.0|   0.0|  0.0|0.0|     0.0|0.0|0.0|3.0|1.7320508075688772|  0.0|\n",
      "|      87|20.0|   1.0|   0.0|  1.0|0.0|     0.0|0.0|0.0|1.0|               1.0|  0.0|\n",
      "|      88|21.0|   1.0|   0.0|  1.0|0.0|     0.0|0.0|1.0|2.0|1.4142135623730951|  0.0|\n",
      "|      89|18.0|   1.0|   0.0|  1.0|0.0|     0.0|0.0|1.0|0.0|               0.0|  0.0|\n",
      "+--------+----+------+------+-----+---+--------+---+---+---+------------------+-----+\n",
      "only showing top 5 rows\n",
      "\n",
      "\n",
      "First 5 records in the testing set: \n",
      "+--------+----+------+------+-----+---+--------+---+---+---+------------------+-----+\n",
      "|PersonID| Age|Race_1|Race_2|Smoke|PTL|sqrt_PTL| HT| UI|FTV|          sqrt_FTV|label|\n",
      "+--------+----+------+------+-----+---+--------+---+---+---+------------------+-----+\n",
      "|     132|18.0|   1.0|   0.0|  1.0|0.0|     0.0|0.0|1.0|0.0|               0.0|  0.0|\n",
      "|     172|20.0|   0.0|   1.0|  1.0|0.0|     0.0|0.0|0.0|0.0|               0.0|  0.0|\n",
      "|      56|31.0|   1.0|   0.0|  1.0|1.0|     1.0|0.0|0.0|1.0|               1.0|  1.0|\n",
      "|     202|25.0|   0.0|   1.0|  0.0|0.0|     0.0|1.0|0.0|0.0|               0.0|  0.0|\n",
      "|      27|20.0|   1.0|   0.0|  1.0|0.0|     0.0|0.0|0.0|2.0|1.4142135623730951|  1.0|\n",
      "+--------+----+------+------+-----+---+--------+---+---+---+------------------+-----+\n",
      "only showing top 5 rows\n",
      "\n"
     ]
    }
   ],
   "source": [
    "# Divide the data into training and test set with proportions 80/20\n",
    "# We will not use randomSplit used in class because it does not produce\n",
    "# training and testing sets stratified by our target variable ('label').\n",
    "# Since this dataset is exceedingly small (ironically, since we're using SparkML),\n",
    "# it is important to make sure our test/train split is stratified so we have \"enough\"\n",
    "# of each label to train and test on.\n",
    "\n",
    "random_seed = 1988\n",
    "train = BirthWeightData.sampleBy(\"label\", fractions={0: 0.8, 1: 0.8}, seed=random_seed)\n",
    "test = BirthWeightData.subtract(train)\n",
    "\n",
    "print(\"Number of records in the training set: \" + str(train.count()))\n",
    "print(\"Number of records in the test set: \" + str(test.count()))\n",
    "print(\"\\nProportion of training set to total dataset: \" + str(train.count()/(test.count()+train.count()))) \n",
    "# Output first 20 records in the training set\n",
    "\n",
    "print (\"\\nFirst 5 records in the training set: \")\n",
    "train.show(5)\n",
    "\n",
    "print (\"\\nFirst 5 records in the testing set: \")\n",
    "test.show(5)"
   ]
  },
  {
   "cell_type": "markdown",
   "metadata": {},
   "source": [
    "<a id=\"build_model\"></a>\n",
    "## Build Logistic Regression Model\n",
    "\n",
    "We use the Pipeline of SparkML to build the Logistic Regression Model"
   ]
  },
  {
   "cell_type": "code",
   "execution_count": 23,
   "metadata": {},
   "outputs": [],
   "source": [
    "# set up Logistic Regression using SparkML pipeline\n",
    "\n",
    "assembler = VectorAssembler(inputCols=[\"Age\", \"Smoke\", \"Race_1\", \"Race_2\", \"sqrt_PTL\", \"HT\", \"UI\", \"sqrt_FTV\"], outputCol=\"features\")\n",
    "lr = LogisticRegression(maxIter=100, regParam=0.01)\n",
    "pipeline = Pipeline(stages=[assembler, lr])"
   ]
  },
  {
   "cell_type": "code",
   "execution_count": 24,
   "metadata": {
    "scrolled": true
   },
   "outputs": [],
   "source": [
    "# train the logistic regression model\n",
    "model = pipeline.fit(train)"
   ]
  },
  {
   "cell_type": "markdown",
   "metadata": {},
   "source": [
    "<a id=\"test_data\"></a>\n",
    "## Predictions for Test data (Logistic Regression)"
   ]
  },
  {
   "cell_type": "code",
   "execution_count": 25,
   "metadata": {},
   "outputs": [
    {
     "name": "stdout",
     "output_type": "stream",
     "text": [
      "Row(PersonID='132', label=0.0, prediction=0.0, probability=DenseVector([0.6024, 0.3976]))\n",
      "Row(PersonID='172', label=0.0, prediction=1.0, probability=DenseVector([0.4933, 0.5067]))\n",
      "Row(PersonID='56', label=1.0, prediction=0.0, probability=DenseVector([0.6585, 0.3415]))\n",
      "Row(PersonID='202', label=0.0, prediction=1.0, probability=DenseVector([0.3324, 0.6676]))\n",
      "Row(PersonID='27', label=1.0, prediction=0.0, probability=DenseVector([0.7396, 0.2604]))\n",
      "Row(PersonID='82', label=1.0, prediction=0.0, probability=DenseVector([0.6389, 0.3611]))\n",
      "Row(PersonID='167', label=0.0, prediction=0.0, probability=DenseVector([0.6882, 0.3118]))\n",
      "Row(PersonID='221', label=0.0, prediction=0.0, probability=DenseVector([0.8979, 0.1021]))\n",
      "Row(PersonID='136', label=0.0, prediction=0.0, probability=DenseVector([0.8906, 0.1094]))\n",
      "Row(PersonID='31', label=1.0, prediction=0.0, probability=DenseVector([0.6347, 0.3653]))\n",
      "Row(PersonID='140', label=0.0, prediction=0.0, probability=DenseVector([0.7782, 0.2218]))\n",
      "Row(PersonID='57', label=1.0, prediction=0.0, probability=DenseVector([0.8114, 0.1886]))\n",
      "Row(PersonID='217', label=0.0, prediction=0.0, probability=DenseVector([0.8587, 0.1413]))\n",
      "Row(PersonID='37', label=1.0, prediction=1.0, probability=DenseVector([0.1576, 0.8424]))\n",
      "Row(PersonID='155', label=0.0, prediction=1.0, probability=DenseVector([0.3229, 0.6771]))\n",
      "Row(PersonID='78', label=1.0, prediction=1.0, probability=DenseVector([0.2015, 0.7985]))\n",
      "Row(PersonID='220', label=0.0, prediction=0.0, probability=DenseVector([0.8807, 0.1193]))\n",
      "Row(PersonID='10', label=1.0, prediction=0.0, probability=DenseVector([0.8757, 0.1243]))\n",
      "Row(PersonID='106', label=0.0, prediction=0.0, probability=DenseVector([0.8758, 0.1242]))\n",
      "Row(PersonID='145', label=0.0, prediction=0.0, probability=DenseVector([0.8647, 0.1353]))\n",
      "Row(PersonID='44', label=1.0, prediction=1.0, probability=DenseVector([0.4522, 0.5478]))\n",
      "Row(PersonID='118', label=0.0, prediction=0.0, probability=DenseVector([0.5291, 0.4709]))\n",
      "Row(PersonID='60', label=1.0, prediction=1.0, probability=DenseVector([0.4933, 0.5067]))\n",
      "Row(PersonID='22', label=1.0, prediction=0.0, probability=DenseVector([0.8836, 0.1164]))\n",
      "Row(PersonID='187', label=0.0, prediction=1.0, probability=DenseVector([0.3149, 0.6851]))\n",
      "Row(PersonID='224', label=0.0, prediction=0.0, probability=DenseVector([0.7356, 0.2644]))\n",
      "Row(PersonID='63', label=1.0, prediction=0.0, probability=DenseVector([0.7883, 0.2117]))\n",
      "Row(PersonID='169', label=0.0, prediction=0.0, probability=DenseVector([0.8994, 0.1006]))\n",
      "Row(PersonID='213', label=0.0, prediction=0.0, probability=DenseVector([0.7993, 0.2007]))\n",
      "Row(PersonID='148', label=0.0, prediction=0.0, probability=DenseVector([0.701, 0.299]))\n",
      "Row(PersonID='128', label=0.0, prediction=1.0, probability=DenseVector([0.4984, 0.5016]))\n",
      "Row(PersonID='77', label=1.0, prediction=0.0, probability=DenseVector([0.8269, 0.1731]))\n",
      "Row(PersonID='156', label=0.0, prediction=0.0, probability=DenseVector([0.7917, 0.2083]))\n",
      "Row(PersonID='205', label=0.0, prediction=0.0, probability=DenseVector([0.7088, 0.2912]))\n",
      "Row(PersonID='141', label=0.0, prediction=0.0, probability=DenseVector([0.8601, 0.1399]))\n",
      "Row(PersonID='162', label=0.0, prediction=1.0, probability=DenseVector([0.3736, 0.6264]))\n",
      "Row(PersonID='175', label=0.0, prediction=0.0, probability=DenseVector([0.9411, 0.0589]))\n",
      "Row(PersonID='101', label=0.0, prediction=0.0, probability=DenseVector([0.7204, 0.2796]))\n",
      "Row(PersonID='139', label=0.0, prediction=0.0, probability=DenseVector([0.7883, 0.2117]))\n",
      "Row(PersonID='215', label=0.0, prediction=0.0, probability=DenseVector([0.8979, 0.1021]))\n",
      "Row(PersonID='102', label=0.0, prediction=0.0, probability=DenseVector([0.5821, 0.4179]))\n",
      "Row(PersonID='196', label=0.0, prediction=0.0, probability=DenseVector([0.8922, 0.1078]))\n"
     ]
    }
   ],
   "source": [
    "# Make predictions for test data and print columns of interest\n",
    "prediction = model.transform(test)\n",
    "selected = prediction.select(\"PersonID\", \"label\", \"prediction\", \"probability\")\n",
    "for row in selected.collect():\n",
    "    print (row)"
   ]
  },
  {
   "cell_type": "markdown",
   "metadata": {},
   "source": [
    "<a id=\"evaluate_model\"></a>\n",
    "## Evaluate the Model (Logistic Regression)\n",
    "\n",
    "We evaluate the model on the training set and test set.  The purpose is to measure the model's predictive accuracy, including the accuracy for new data."
   ]
  },
  {
   "cell_type": "code",
   "execution_count": 26,
   "metadata": {},
   "outputs": [],
   "source": [
    "def full_metrics(model, data, curve_metrics=False):\n",
    "    pred_m=model.transform(data).select(\"prediction\", \"label\")\n",
    "    eval_m=MulticlassClassificationEvaluator(labelCol=\"label\", predictionCol=\"prediction\", metricName=\"accuracy\")\n",
    "    accuracy_m=eval_m.evaluate(pred_m)\n",
    "    predictionAndLabels_m=pred_m.rdd\n",
    "    metrics_m=MulticlassMetrics(predictionAndLabels_m)\n",
    "    precision_m=metrics_m.precision(1.0)\n",
    "    recall_m=metrics_m.recall(1.0)\n",
    "    f1Measure_m = metrics_m.fMeasure(1.0, 1.0)\n",
    "    print (\"Accuracy = %s\" %accuracy_m)\n",
    "    print (\"Error = %s\" % (1-accuracy_m))\n",
    "    print (\"Precision = %s\" %precision_m)\n",
    "    print (\"Recall = %s\" %recall_m)\n",
    "    print (\"F1 Measure = %s\" % f1Measure_m)\n",
    "    \n",
    "    if curve_metrics:\n",
    "        bin_m=BinaryClassificationMetrics(predictionAndLabels_m)\n",
    "        print(\"Area under PR = %s\" % bin_m.areaUnderPR)\n",
    "        print(\"Area under ROC = %s\" % bin_m.areaUnderROC)\n",
    "\n",
    "def pipe_to_metrics(model, train, test, curve_metrics=False, graph_ROC=False, model_trained=False):\n",
    "    if not model_trained:\n",
    "        model = model.fit(train)\n",
    "    \n",
    "    prediction = model.transform(train)\n",
    "    print(\"Training confusion matrix: \")\n",
    "    prediction.crosstab('label', 'prediction').show()\n",
    "    \n",
    "    prediction = model.transform(test)\n",
    "    print(\"\\nTest confusion matrix: \")\n",
    "    prediction.crosstab('label', 'prediction').show()\n",
    "    \n",
    "    print (\"\\nModel evaluation for the train data: \")\n",
    "    full_metrics(model, train, curve_metrics=curve_metrics)\n",
    "    print (\"\\nModel evaluation for the test data: \")\n",
    "    full_metrics(model, test, curve_metrics=curve_metrics)\n",
    "    \n",
    "    if graph_ROC:\n",
    "        ROC=model.stages[-1].summary.roc\n",
    "        df=ROC.toPandas()\n",
    "        df.plot(x='FPR', y='TPR', label=\"ROC\", legend=False)\n"
   ]
  },
  {
   "cell_type": "code",
   "execution_count": 27,
   "metadata": {},
   "outputs": [
    {
     "name": "stdout",
     "output_type": "stream",
     "text": [
      "Training confusion matrix: \n",
      "+----------------+---+---+\n",
      "|label_prediction|0.0|1.0|\n",
      "+----------------+---+---+\n",
      "|             1.0| 30| 16|\n",
      "|             0.0| 93|  8|\n",
      "+----------------+---+---+\n",
      "\n",
      "\n",
      "Test confusion matrix: \n",
      "+----------------+---+---+\n",
      "|label_prediction|0.0|1.0|\n",
      "+----------------+---+---+\n",
      "|             1.0|  9|  4|\n",
      "|             0.0| 23|  6|\n",
      "+----------------+---+---+\n",
      "\n",
      "\n",
      "Model evaluation for the train data: \n",
      "Accuracy = 0.7414965986394558\n",
      "Error = 0.25850340136054417\n",
      "Precision = 0.6666666666666666\n",
      "Recall = 0.34782608695652173\n",
      "F1 Measure = 0.4571428571428571\n",
      "Area under PR = 0.5513161786453712\n",
      "Area under ROC = 0.6343090830822213\n",
      "\n",
      "Model evaluation for the test data: \n",
      "Accuracy = 0.6428571428571429\n",
      "Error = 0.3571428571428571\n",
      "Precision = 0.4\n",
      "Recall = 0.3076923076923077\n",
      "F1 Measure = 0.34782608695652173\n",
      "Area under PR = 0.3686813186813187\n",
      "Area under ROC = 0.5503978779840849\n"
     ]
    },
    {
     "data": {
      "image/png": "[encoded data removed]",
      "text/plain": [
       "<Figure size 432x288 with 1 Axes>"
      ]
     },
     "metadata": {
      "needs_background": "light"
     },
     "output_type": "display_data"
    }
   ],
   "source": [
    "pipe_to_metrics(model, train, test, curve_metrics=True, graph_ROC=True, model_trained=True)"
   ]
  },
  {
   "cell_type": "markdown",
   "metadata": {},
   "source": [
    "<a id=\"DT_model\"></a>\n",
    "## Building a Decision Tree Model"
   ]
  },
  {
   "cell_type": "code",
   "execution_count": 28,
   "metadata": {},
   "outputs": [
    {
     "name": "stdout",
     "output_type": "stream",
     "text": [
      "Training confusion matrix: \n",
      "+----------------+---+---+\n",
      "|label_prediction|0.0|1.0|\n",
      "+----------------+---+---+\n",
      "|             1.0| 25| 21|\n",
      "|             0.0| 99|  2|\n",
      "+----------------+---+---+\n",
      "\n",
      "\n",
      "Test confusion matrix: \n",
      "+----------------+---+---+\n",
      "|label_prediction|0.0|1.0|\n",
      "+----------------+---+---+\n",
      "|             1.0| 10|  3|\n",
      "|             0.0| 25|  4|\n",
      "+----------------+---+---+\n",
      "\n",
      "\n",
      "Model evaluation for the train data: \n",
      "Accuracy = 0.8163265306122449\n",
      "Error = 0.18367346938775508\n",
      "Precision = 0.9130434782608695\n",
      "Recall = 0.45652173913043476\n",
      "F1 Measure = 0.608695652173913\n",
      "\n",
      "Model evaluation for the test data: \n",
      "Accuracy = 0.6666666666666666\n",
      "Error = 0.33333333333333337\n",
      "Precision = 0.42857142857142855\n",
      "Recall = 0.23076923076923078\n",
      "F1 Measure = 0.3\n"
     ]
    }
   ],
   "source": [
    "from pyspark.ml.classification import DecisionTreeClassifier\n",
    "\n",
    "dt = DecisionTreeClassifier(labelCol='label')\n",
    "pipeline_dt = Pipeline(stages=[assembler, dt])\n",
    "pipe_to_metrics(pipeline_dt, train, test, curve_metrics=False, graph_ROC=False, model_trained=False)"
   ]
  },
  {
   "cell_type": "markdown",
   "metadata": {},
   "source": [
    "<a id=\"RF_model\"></a>\n",
    "## Building a Random Forest Model"
   ]
  },
  {
   "cell_type": "code",
   "execution_count": 29,
   "metadata": {},
   "outputs": [
    {
     "name": "stdout",
     "output_type": "stream",
     "text": [
      "Training confusion matrix: \n",
      "+----------------+---+---+\n",
      "|label_prediction|0.0|1.0|\n",
      "+----------------+---+---+\n",
      "|             1.0| 18| 28|\n",
      "|             0.0|100|  1|\n",
      "+----------------+---+---+\n",
      "\n",
      "\n",
      "Test confusion matrix: \n",
      "+----------------+---+---+\n",
      "|label_prediction|0.0|1.0|\n",
      "+----------------+---+---+\n",
      "|             1.0| 11|  2|\n",
      "|             0.0| 25|  4|\n",
      "+----------------+---+---+\n",
      "\n",
      "\n",
      "Model evaluation for the train data: \n",
      "Accuracy = 0.8707482993197279\n",
      "Error = 0.12925170068027214\n",
      "Precision = 0.9655172413793104\n",
      "Recall = 0.6086956521739131\n",
      "F1 Measure = 0.7466666666666666\n",
      "\n",
      "Model evaluation for the test data: \n",
      "Accuracy = 0.6428571428571429\n",
      "Error = 0.3571428571428571\n",
      "Precision = 0.3333333333333333\n",
      "Recall = 0.15384615384615385\n",
      "F1 Measure = 0.21052631578947367\n"
     ]
    }
   ],
   "source": [
    "from pyspark.ml.classification import RandomForestClassifier\n",
    "\n",
    "rf = RandomForestClassifier(labelCol='label', numTrees=100)\n",
    "pipeline_rf = Pipeline(stages=[assembler, rf])\n",
    "pipe_to_metrics(pipeline_rf, train, test, curve_metrics=False, graph_ROC=False, model_trained=False)"
   ]
  },
  {
   "cell_type": "markdown",
   "metadata": {},
   "source": [
    "<a id=\"GB_model\"></a>\n",
    "## Building a Gradient Boosted Decision Tree Model"
   ]
  },
  {
   "cell_type": "code",
   "execution_count": 30,
   "metadata": {},
   "outputs": [
    {
     "name": "stdout",
     "output_type": "stream",
     "text": [
      "Training confusion matrix: \n",
      "+----------------+---+---+\n",
      "|label_prediction|0.0|1.0|\n",
      "+----------------+---+---+\n",
      "|             1.0|  9| 37|\n",
      "|             0.0|100|  1|\n",
      "+----------------+---+---+\n",
      "\n",
      "\n",
      "Test confusion matrix: \n",
      "+----------------+---+---+\n",
      "|label_prediction|0.0|1.0|\n",
      "+----------------+---+---+\n",
      "|             1.0| 10|  3|\n",
      "|             0.0| 23|  6|\n",
      "+----------------+---+---+\n",
      "\n",
      "\n",
      "Model evaluation for the train data: \n",
      "Accuracy = 0.9319727891156463\n",
      "Error = 0.0680272108843537\n",
      "Precision = 0.9736842105263158\n",
      "Recall = 0.8043478260869565\n",
      "F1 Measure = 0.8809523809523809\n",
      "\n",
      "Model evaluation for the test data: \n",
      "Accuracy = 0.6190476190476191\n",
      "Error = 0.38095238095238093\n",
      "Precision = 0.3333333333333333\n",
      "Recall = 0.23076923076923078\n",
      "F1 Measure = 0.27272727272727276\n"
     ]
    }
   ],
   "source": [
    "from pyspark.ml.classification import GBTClassifier\n",
    "\n",
    "gb = GBTClassifier(labelCol='label', maxIter=50)\n",
    "pipeline_gb = Pipeline(stages=[assembler, gb])\n",
    "pipe_to_metrics(pipeline_gb, train, test, curve_metrics=False, graph_ROC=False, model_trained=False)"
   ]
  },
  {
   "cell_type": "markdown",
   "metadata": {},
   "source": [
    "<a id=\"MP_model\"></a>\n",
    "## Building a Perceptron"
   ]
  },
  {
   "cell_type": "code",
   "execution_count": 31,
   "metadata": {
    "scrolled": false
   },
   "outputs": [
    {
     "name": "stdout",
     "output_type": "stream",
     "text": [
      "Training confusion matrix: \n",
      "+----------------+---+---+\n",
      "|label_prediction|0.0|1.0|\n",
      "+----------------+---+---+\n",
      "|             1.0| 17| 29|\n",
      "|             0.0| 99|  2|\n",
      "+----------------+---+---+\n",
      "\n",
      "\n",
      "Test confusion matrix: \n",
      "+----------------+---+---+\n",
      "|label_prediction|0.0|1.0|\n",
      "+----------------+---+---+\n",
      "|             1.0| 10|  3|\n",
      "|             0.0| 24|  5|\n",
      "+----------------+---+---+\n",
      "\n",
      "\n",
      "Model evaluation for the train data: \n",
      "Accuracy = 0.8707482993197279\n",
      "Error = 0.12925170068027214\n",
      "Precision = 0.9354838709677419\n",
      "Recall = 0.6304347826086957\n",
      "F1 Measure = 0.7532467532467533\n",
      "\n",
      "Model evaluation for the test data: \n",
      "Accuracy = 0.6428571428571429\n",
      "Error = 0.3571428571428571\n",
      "Precision = 0.375\n",
      "Recall = 0.23076923076923078\n",
      "F1 Measure = 0.2857142857142857\n"
     ]
    }
   ],
   "source": [
    "from pyspark.ml.classification import MultilayerPerceptronClassifier\n",
    "\n",
    "scaler = MinMaxScaler(inputCol=\"features\", outputCol=\"scaledFeatures\")\n",
    "mp = MultilayerPerceptronClassifier(featuresCol=scaler.getOutputCol(), maxIter=100, layers=[8,8,2], blockSize=1, seed=random_seed)\n",
    "pipeline_mp = Pipeline(stages=[assembler, scaler, mp])\n",
    "pipe_to_metrics(pipeline_mp, train, test, curve_metrics=False, graph_ROC=False, model_trained=False)"
   ]
  },
  {
   "cell_type": "markdown",
   "metadata": {},
   "source": [
    "<a id=\"weight_lr\"></a>\n",
    "## Building a Logistic Regression Model with Weighted Cost Function\n",
    "After the whirlwind of classifiers we just built and evaluated, we're going to bring it back to logistic regression because, well, this assignment is\n",
    "about building a classifier with logistic regression in Spark.  A big issue we have with this data is that it is imbalanced and the logistic regression\n",
    "model built previously was decently accurate for the majority case but absolutely horrible (worse than random chance) at the minority case.  We create \n",
    "a new weighted column to feed this logistic regression model to see if we can increase the accuracy and precision (recall may go down because of the weighting)."
   ]
  },
  {
   "cell_type": "code",
   "execution_count": 32,
   "metadata": {},
   "outputs": [
    {
     "name": "stdout",
     "output_type": "stream",
     "text": [
      "Training confusion matrix: \n",
      "+----------------+---+---+\n",
      "|label_prediction|0.0|1.0|\n",
      "+----------------+---+---+\n",
      "|             1.0| 15| 31|\n",
      "|             0.0| 71| 30|\n",
      "+----------------+---+---+\n",
      "\n",
      "\n",
      "Test confusion matrix: \n",
      "+----------------+---+---+\n",
      "|label_prediction|0.0|1.0|\n",
      "+----------------+---+---+\n",
      "|             1.0|  6|  7|\n",
      "|             0.0| 18| 11|\n",
      "+----------------+---+---+\n",
      "\n",
      "\n",
      "Model evaluation for the train data: \n",
      "Accuracy = 0.6938775510204082\n",
      "Error = 0.30612244897959184\n",
      "Precision = 0.5081967213114754\n",
      "Recall = 0.6739130434782609\n",
      "F1 Measure = 0.5794392523364487\n",
      "\n",
      "Model evaluation for the test data: \n",
      "Accuracy = 0.5952380952380952\n",
      "Error = 0.40476190476190477\n",
      "Precision = 0.3888888888888889\n",
      "Recall = 0.5384615384615384\n",
      "F1 Measure = 0.45161290322580644\n"
     ]
    }
   ],
   "source": [
    "train=train.withColumn(\"classWeights\", when(train.label == 1, imbalanced).otherwise(1))\n",
    "wlr = LogisticRegression(maxIter=100, regParam=0.01, weightCol=\"classWeights\")\n",
    "pipeline_wlr = Pipeline(stages=[assembler, wlr])\n",
    "pipe_to_metrics(pipeline_wlr, train, test, curve_metrics=False, graph_ROC=False, model_trained=False)"
   ]
  },
  {
   "cell_type": "markdown",
   "metadata": {},
   "source": [
    "<a id=\"tuning\"></a>\n",
    "## Tuning the Logistic Regression Model\n",
    "The last LogReg model was probably the best overall performer with the highest F1-score on the test set.  With this current problem, however, we really want to predict low birth rate\n",
    "better than normal birth weight--which is an issue, because we have much less data on low birth rate in our already super tiny dataset.  To try to get around this, we will split the data into a train/test/val split and use the validation set to tune a weight multiplier."
   ]
  },
  {
   "cell_type": "code",
   "execution_count": 33,
   "metadata": {},
   "outputs": [],
   "source": [
    "random_seed = 123\n",
    "train = BirthWeightData.sampleBy(\"label\", fractions={0: 0.7, 1: 0.7}, seed=random_seed)\n",
    "other = BirthWeightData.subtract(train)\n",
    "test = other.sampleBy(\"label\", fractions={0:0.6, 1:0.6}, seed=random_seed+1)\n",
    "val = other.subtract(test)"
   ]
  },
  {
   "cell_type": "code",
   "execution_count": 34,
   "metadata": {},
   "outputs": [],
   "source": [
    "def eval_model(model, data):\n",
    "    pred_m=model.transform(data).select(\"prediction\", \"label\")\n",
    "    predictionAndLabels_m=pred_m.rdd\n",
    "    metrics_m=MulticlassMetrics(predictionAndLabels_m)\n",
    "    return metrics_m.precision(1.0), metrics_m.recall(1.0), metrics_m.fMeasure(1.0, 1.0)"
   ]
  },
  {
   "cell_type": "code",
   "execution_count": 35,
   "metadata": {},
   "outputs": [],
   "source": [
    "# This cell trains multiple models for different weights and creates a list of their metrics so they can be graphed and\n",
    "# compared to determine the best weighting for our purposes\n",
    "\n",
    "m_range=[]\n",
    "m_precision=[]\n",
    "m_recall=[]\n",
    "m_f1 = []\n",
    "\n",
    "for index in range(5, 40):\n",
    "    multiplier = 0.2*index\n",
    "    train=train.withColumn(\"classWeights\", when(train.label == 1, multiplier).otherwise(1))\n",
    "    wlr = LogisticRegression(maxIter=100, regParam=0.01, weightCol=\"classWeights\")\n",
    "    pipeline_wlr = Pipeline(stages=[assembler, wlr])\n",
    "    model = pipeline_wlr.fit(train)\n",
    "    p, r, f = eval_model(model, val)\n",
    "    m_range.append(multiplier)\n",
    "    m_precision.append(p)\n",
    "    m_recall.append(r)\n",
    "    m_f1.append(f)"
   ]
  },
  {
   "cell_type": "code",
   "execution_count": 36,
   "metadata": {},
   "outputs": [
    {
     "data": {
      "text/plain": [
       "<function matplotlib.pyplot.show>"
      ]
     },
     "execution_count": 36,
     "metadata": {},
     "output_type": "execute_result"
    },
    {
     "data": {
      "image/png": "[encoded data removed]",
      "text/plain": [
       "<Figure size 432x288 with 1 Axes>"
      ]
     },
     "metadata": {
      "needs_background": "light"
     },
     "output_type": "display_data"
    }
   ],
   "source": [
    "plt.plot(m_range, m_precision, color='red', linestyle='-', marker='o')\n",
    "plt.plot(m_range, m_recall, color='orange', linestyle='-', marker='o')\n",
    "plt.plot(m_range, m_f1, color='blue', linestyle='-', marker='o')\n",
    "plt.xlabel('Weight multiplier')\n",
    "plt.ylabel('Metrics')\n",
    "plt.title('Metrics by weight multiplier')\n",
    "plt.show"
   ]
  },
  {
   "cell_type": "markdown",
   "metadata": {},
   "source": [
    "Clearly, we get the \"best-ish\" (but still not awesome) results with a multiplier greater than or equal to 6.2"
   ]
  },
  {
   "cell_type": "code",
   "execution_count": 37,
   "metadata": {},
   "outputs": [
    {
     "name": "stdout",
     "output_type": "stream",
     "text": [
      "Training confusion matrix: \n",
      "+----------------+---+---+\n",
      "|label_prediction|0.0|1.0|\n",
      "+----------------+---+---+\n",
      "|             1.0|  2| 38|\n",
      "|             0.0| 33| 56|\n",
      "+----------------+---+---+\n",
      "\n",
      "\n",
      "Test confusion matrix: \n",
      "+----------------+---+---+\n",
      "|label_prediction|0.0|1.0|\n",
      "+----------------+---+---+\n",
      "|             1.0|  1| 12|\n",
      "|             0.0|  7| 25|\n",
      "+----------------+---+---+\n",
      "\n",
      "\n",
      "Model evaluation for the train data: \n",
      "Accuracy = 0.5503875968992248\n",
      "Error = 0.4496124031007752\n",
      "Precision = 0.40425531914893614\n",
      "Recall = 0.95\n",
      "F1 Measure = 0.5671641791044776\n",
      "Area under PR = 0.4019008741547089\n",
      "Area under ROC = 0.6603932584269663\n",
      "\n",
      "Model evaluation for the test data: \n",
      "Accuracy = 0.4222222222222222\n",
      "Error = 0.5777777777777777\n",
      "Precision = 0.32432432432432434\n",
      "Recall = 0.9230769230769231\n",
      "F1 Measure = 0.48\n",
      "Area under PR = 0.32296142296142294\n",
      "Area under ROC = 0.5709134615384616\n"
     ]
    },
    {
     "data": {
      "image/png": "[encoded data removed]",
      "text/plain": [
       "<Figure size 432x288 with 1 Axes>"
      ]
     },
     "metadata": {
      "needs_background": "light"
     },
     "output_type": "display_data"
    }
   ],
   "source": [
    "# a weight multiplier of 6.4 is used instead of 6.2 because it is a more stable position than 6.2, which\n",
    "# is at the tipping point between a huge increase and a plateau.\n",
    "\n",
    "best_multiplier = 6.4\n",
    "train=train.withColumn(\"classWeights\", when(train.label == 1, best_multiplier).otherwise(1))\n",
    "wlr = LogisticRegression(maxIter=100, regParam=0.01, weightCol=\"classWeights\")\n",
    "pipeline_wlr = Pipeline(stages=[assembler, wlr])\n",
    "pipe_to_metrics(pipeline_wlr, train, test, curve_metrics=True, graph_ROC=True)"
   ]
  },
  {
   "cell_type": "markdown",
   "metadata": {},
   "source": [
    "This last model with weight multiplier of 6.4 is definitely not perfect, but it's the best so far *for our purposes*.  When it comes to predicting whether a child will be born with a low birth weight or not, it is more important to predict low birth weight when their is low birth weight than it is to predict normal birth weight when the child has normal birth weight.  If the model predicts low birth weight and the child is born with a normal birth weight then it's really a \"no harm, no foul\" situation.  It's better to prepare for the worst and hope for the best than to be underprepared when a child is born with a low birth weight.  With this last model, if it predicts low birth weight then there is a 92% chance (11/12 on the test set) that the child will have a low birth weight--so a 1 indicates we should take necessary precautions.  Granted, with a 1 predicted there is still only a 32% chance that the child actually comes out with a low birth weight, so there will be a lot of situations where additional precautions are unnecessary--but that is a much better situation then not being prepared for a low birth weight when it occurs."
   ]
  }
 ],
 "metadata": {
  "kernelspec": {
   "display_name": "Python 3.6 with Spark",
   "language": "python3",
   "name": "python36"
  },
  "name": "machineLearningHAVCBluemix.ipynb"
 },
 "nbformat": 4,
 "nbformat_minor": 1
}
